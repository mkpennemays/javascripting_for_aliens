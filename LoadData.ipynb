{
 "cells": [
  {
   "cell_type": "code",
   "execution_count": 1,
   "metadata": {},
   "outputs": [],
   "source": [
    "import os\n",
    "import requests\n",
    "import json\n",
    "import pandas as pd\n",
    "import numpy as np\n",
    "from datetime import datetime, date\n",
    "import gmaps\n",
    "\n",
    "# Import API key\n",
    "from config import g_key"
   ]
  },
  {
   "cell_type": "code",
   "execution_count": 2,
   "metadata": {},
   "outputs": [],
   "source": [
    "data_file = \"Resources/Onyx-Data-UFO-Sightings-Dataset.csv\"\n"
   ]
  },
  {
   "cell_type": "code",
   "execution_count": 3,
   "metadata": {},
   "outputs": [
    {
     "name": "stderr",
     "output_type": "stream",
     "text": [
      "C:\\Users\\Mary Mays\\anaconda3\\envs\\AdvPandaEnv\\lib\\site-packages\\IPython\\core\\interactiveshell.py:2714: DtypeWarning: Columns (5) have mixed types.Specify dtype option on import or set low_memory=False.\n",
      "  interactivity=interactivity, compiler=compiler, result=result)\n"
     ]
    }
   ],
   "source": [
    "ufoSightingFull_df = pd.read_csv(data_file,dtype={\"datetime\": \"string\", \\\n",
    "                                              \"city\": \"string\",\\\n",
    "                                              \"state\": \"string\",\\\n",
    "                                              \"country\": \"string\",\\\n",
    "                                              \"shape\":\"string\",\\\n",
    "                                              \"duration\":\"string\",\\\n",
    "                                              \"duration (hours/min)\":\"string\",\\\n",
    "                                              \"comments\":\"string\",\\\n",
    "                                              \"date posted\":\"string\",\\\n",
    "                                              \"latitude\":\"string\",\\\n",
    "                                              \"longitude \":\"string\"})"
   ]
  },
  {
   "cell_type": "code",
   "execution_count": 4,
   "metadata": {
    "scrolled": false
   },
   "outputs": [
    {
     "data": {
      "text/html": [
       "<div>\n",
       "<style scoped>\n",
       "    .dataframe tbody tr th:only-of-type {\n",
       "        vertical-align: middle;\n",
       "    }\n",
       "\n",
       "    .dataframe tbody tr th {\n",
       "        vertical-align: top;\n",
       "    }\n",
       "\n",
       "    .dataframe thead th {\n",
       "        text-align: right;\n",
       "    }\n",
       "</style>\n",
       "<table border=\"1\" class=\"dataframe\">\n",
       "  <thead>\n",
       "    <tr style=\"text-align: right;\">\n",
       "      <th></th>\n",
       "      <th>datetime</th>\n",
       "      <th>city</th>\n",
       "      <th>state</th>\n",
       "      <th>country</th>\n",
       "      <th>shape</th>\n",
       "      <th>duration (seconds)</th>\n",
       "      <th>duration (hours/min)</th>\n",
       "      <th>comments</th>\n",
       "      <th>date posted</th>\n",
       "      <th>latitude</th>\n",
       "      <th>longitude</th>\n",
       "    </tr>\n",
       "  </thead>\n",
       "  <tbody>\n",
       "    <tr>\n",
       "      <th>0</th>\n",
       "      <td>10/10/1949 20:30</td>\n",
       "      <td>san marcos</td>\n",
       "      <td>tx</td>\n",
       "      <td>us</td>\n",
       "      <td>cylinder</td>\n",
       "      <td>2700</td>\n",
       "      <td>45 minutes</td>\n",
       "      <td>This event took place in early fall around 194...</td>\n",
       "      <td>4/27/2004</td>\n",
       "      <td>29.8830556</td>\n",
       "      <td>-97.9411111</td>\n",
       "    </tr>\n",
       "    <tr>\n",
       "      <th>1</th>\n",
       "      <td>10/10/1949 21:00</td>\n",
       "      <td>lackland afb</td>\n",
       "      <td>tx</td>\n",
       "      <td>&lt;NA&gt;</td>\n",
       "      <td>light</td>\n",
       "      <td>7200</td>\n",
       "      <td>1-2 hrs</td>\n",
       "      <td>1949 Lackland AFB&amp;#44 TX.  Lights racing acros...</td>\n",
       "      <td>12/16/2005</td>\n",
       "      <td>29.38421</td>\n",
       "      <td>-98.581082</td>\n",
       "    </tr>\n",
       "    <tr>\n",
       "      <th>2</th>\n",
       "      <td>10/10/1955 17:00</td>\n",
       "      <td>chester (uk/england)</td>\n",
       "      <td>&lt;NA&gt;</td>\n",
       "      <td>gb</td>\n",
       "      <td>circle</td>\n",
       "      <td>20</td>\n",
       "      <td>20 seconds</td>\n",
       "      <td>Green/Orange circular disc over Chester&amp;#44 En...</td>\n",
       "      <td>1/21/2008</td>\n",
       "      <td>53.2</td>\n",
       "      <td>-2.916667</td>\n",
       "    </tr>\n",
       "    <tr>\n",
       "      <th>3</th>\n",
       "      <td>10/10/1956 21:00</td>\n",
       "      <td>edna</td>\n",
       "      <td>tx</td>\n",
       "      <td>us</td>\n",
       "      <td>circle</td>\n",
       "      <td>20</td>\n",
       "      <td>1/2 hour</td>\n",
       "      <td>My older brother and twin sister were leaving ...</td>\n",
       "      <td>1/17/2004</td>\n",
       "      <td>28.9783333</td>\n",
       "      <td>-96.6458333</td>\n",
       "    </tr>\n",
       "    <tr>\n",
       "      <th>4</th>\n",
       "      <td>10/10/1960 20:00</td>\n",
       "      <td>kaneohe</td>\n",
       "      <td>hi</td>\n",
       "      <td>us</td>\n",
       "      <td>light</td>\n",
       "      <td>900</td>\n",
       "      <td>15 minutes</td>\n",
       "      <td>AS a Marine 1st Lt. flying an FJ4B fighter/att...</td>\n",
       "      <td>1/22/2004</td>\n",
       "      <td>21.4180556</td>\n",
       "      <td>-157.8036111</td>\n",
       "    </tr>\n",
       "  </tbody>\n",
       "</table>\n",
       "</div>"
      ],
      "text/plain": [
       "           datetime                  city state country     shape  \\\n",
       "0  10/10/1949 20:30            san marcos    tx      us  cylinder   \n",
       "1  10/10/1949 21:00          lackland afb    tx    <NA>     light   \n",
       "2  10/10/1955 17:00  chester (uk/england)  <NA>      gb    circle   \n",
       "3  10/10/1956 21:00                  edna    tx      us    circle   \n",
       "4  10/10/1960 20:00               kaneohe    hi      us     light   \n",
       "\n",
       "  duration (seconds) duration (hours/min)  \\\n",
       "0               2700           45 minutes   \n",
       "1               7200              1-2 hrs   \n",
       "2                 20           20 seconds   \n",
       "3                 20             1/2 hour   \n",
       "4                900           15 minutes   \n",
       "\n",
       "                                            comments date posted    latitude  \\\n",
       "0  This event took place in early fall around 194...   4/27/2004  29.8830556   \n",
       "1  1949 Lackland AFB&#44 TX.  Lights racing acros...  12/16/2005    29.38421   \n",
       "2  Green/Orange circular disc over Chester&#44 En...   1/21/2008        53.2   \n",
       "3  My older brother and twin sister were leaving ...   1/17/2004  28.9783333   \n",
       "4  AS a Marine 1st Lt. flying an FJ4B fighter/att...   1/22/2004  21.4180556   \n",
       "\n",
       "     longitude   \n",
       "0   -97.9411111  \n",
       "1    -98.581082  \n",
       "2     -2.916667  \n",
       "3   -96.6458333  \n",
       "4  -157.8036111  "
      ]
     },
     "execution_count": 4,
     "metadata": {},
     "output_type": "execute_result"
    }
   ],
   "source": [
    "ufoSightingFull_df.head()"
   ]
  },
  {
   "cell_type": "code",
   "execution_count": 5,
   "metadata": {},
   "outputs": [],
   "source": [
    "#Lets pare this down - its a big dataset to handle clientside"
   ]
  },
  {
   "cell_type": "code",
   "execution_count": 6,
   "metadata": {
    "scrolled": true
   },
   "outputs": [],
   "source": [
    "\n",
    "ufoSightingFull_df.drop('date posted', axis=1,inplace = True)\n",
    "ufoSighting_df = ufoSightingFull_df.sample(frac=0.50)\n"
   ]
  },
  {
   "cell_type": "code",
   "execution_count": 7,
   "metadata": {},
   "outputs": [
    {
     "data": {
      "text/plain": [
       "['datetime',\n",
       " 'city',\n",
       " 'state',\n",
       " 'country',\n",
       " 'shape',\n",
       " 'duration (seconds)',\n",
       " 'duration (hours/min)',\n",
       " 'comments',\n",
       " 'latitude',\n",
       " 'longitude ']"
      ]
     },
     "execution_count": 7,
     "metadata": {},
     "output_type": "execute_result"
    }
   ],
   "source": [
    "ufoSighting_df.count()\n",
    "my_list = ufoSighting_df.columns.values.tolist()\n",
    "my_list"
   ]
  },
  {
   "cell_type": "code",
   "execution_count": 8,
   "metadata": {},
   "outputs": [],
   "source": [
    "def convert_date(dt_tm):\n",
    "    dt2 = datetime.strptime(dt_tm,\"%m/%d/%Y %M:%S\")\n",
    "    return dt2.strftime(\"%m/%d/%Y\")\n",
    "\n",
    "ufoSighting_df['datetime'] = ufoSighting_df['datetime'].apply(convert_date)"
   ]
  },
  {
   "cell_type": "code",
   "execution_count": 9,
   "metadata": {
    "scrolled": true
   },
   "outputs": [
    {
     "data": {
      "text/html": [
       "<div>\n",
       "<style scoped>\n",
       "    .dataframe tbody tr th:only-of-type {\n",
       "        vertical-align: middle;\n",
       "    }\n",
       "\n",
       "    .dataframe tbody tr th {\n",
       "        vertical-align: top;\n",
       "    }\n",
       "\n",
       "    .dataframe thead th {\n",
       "        text-align: right;\n",
       "    }\n",
       "</style>\n",
       "<table border=\"1\" class=\"dataframe\">\n",
       "  <thead>\n",
       "    <tr style=\"text-align: right;\">\n",
       "      <th></th>\n",
       "      <th>datetime</th>\n",
       "      <th>city</th>\n",
       "      <th>state</th>\n",
       "      <th>country</th>\n",
       "      <th>shape</th>\n",
       "      <th>duration (seconds)</th>\n",
       "      <th>duration (hours/min)</th>\n",
       "      <th>comments</th>\n",
       "      <th>latitude</th>\n",
       "      <th>longitude</th>\n",
       "    </tr>\n",
       "  </thead>\n",
       "  <tbody>\n",
       "    <tr>\n",
       "      <th>28655</th>\n",
       "      <td>02/26/2005</td>\n",
       "      <td>ridgecrest</td>\n",
       "      <td>ca</td>\n",
       "      <td>us</td>\n",
       "      <td>unknown</td>\n",
       "      <td>1800</td>\n",
       "      <td>30 minutes</td>\n",
       "      <td>orange light drops what looks like asteroids</td>\n",
       "      <td>35.6225000</td>\n",
       "      <td>-117.6700000</td>\n",
       "    </tr>\n",
       "    <tr>\n",
       "      <th>33095</th>\n",
       "      <td>03/22/2013</td>\n",
       "      <td>toms river</td>\n",
       "      <td>nj</td>\n",
       "      <td>us</td>\n",
       "      <td>light</td>\n",
       "      <td>20</td>\n",
       "      <td>20 seconds</td>\n",
       "      <td>UFO dancing in the Toms River NJ sky takes off...</td>\n",
       "      <td>39.9536111</td>\n",
       "      <td>-74.1983333</td>\n",
       "    </tr>\n",
       "    <tr>\n",
       "      <th>56915</th>\n",
       "      <td>07/15/2000</td>\n",
       "      <td>vancouver</td>\n",
       "      <td>wa</td>\n",
       "      <td>us</td>\n",
       "      <td>circle</td>\n",
       "      <td>300</td>\n",
       "      <td>5 minutes</td>\n",
       "      <td>siting over vancouver&amp;#44 Wa.</td>\n",
       "      <td>45.6388889</td>\n",
       "      <td>-122.6602778</td>\n",
       "    </tr>\n",
       "    <tr>\n",
       "      <th>43805</th>\n",
       "      <td>05/22/2000</td>\n",
       "      <td>gardner</td>\n",
       "      <td>ks</td>\n",
       "      <td>us</td>\n",
       "      <td>egg</td>\n",
       "      <td>20</td>\n",
       "      <td>20 seconds</td>\n",
       "      <td>This orange fireball suddenly slowed down and ...</td>\n",
       "      <td>38.8108333</td>\n",
       "      <td>-94.9269444</td>\n",
       "    </tr>\n",
       "    <tr>\n",
       "      <th>7820</th>\n",
       "      <td>11/10/2012</td>\n",
       "      <td>murrells inlet</td>\n",
       "      <td>sc</td>\n",
       "      <td>us</td>\n",
       "      <td>light</td>\n",
       "      <td>300</td>\n",
       "      <td>5 minutes</td>\n",
       "      <td>15-20 orange/reddish orbs&amp;#44 moving in a simi...</td>\n",
       "      <td>33.5508333</td>\n",
       "      <td>-79.0416667</td>\n",
       "    </tr>\n",
       "  </tbody>\n",
       "</table>\n",
       "</div>"
      ],
      "text/plain": [
       "         datetime            city state country    shape duration (seconds)  \\\n",
       "28655  02/26/2005      ridgecrest    ca      us  unknown               1800   \n",
       "33095  03/22/2013      toms river    nj      us    light                 20   \n",
       "56915  07/15/2000       vancouver    wa      us   circle                300   \n",
       "43805  05/22/2000         gardner    ks      us      egg                 20   \n",
       "7820   11/10/2012  murrells inlet    sc      us    light                300   \n",
       "\n",
       "      duration (hours/min)                                           comments  \\\n",
       "28655           30 minutes       orange light drops what looks like asteroids   \n",
       "33095           20 seconds  UFO dancing in the Toms River NJ sky takes off...   \n",
       "56915            5 minutes                      siting over vancouver&#44 Wa.   \n",
       "43805           20 seconds  This orange fireball suddenly slowed down and ...   \n",
       "7820             5 minutes  15-20 orange/reddish orbs&#44 moving in a simi...   \n",
       "\n",
       "         latitude    longitude   \n",
       "28655  35.6225000  -117.6700000  \n",
       "33095  39.9536111   -74.1983333  \n",
       "56915  45.6388889  -122.6602778  \n",
       "43805  38.8108333   -94.9269444  \n",
       "7820   33.5508333   -79.0416667  "
      ]
     },
     "execution_count": 9,
     "metadata": {},
     "output_type": "execute_result"
    }
   ],
   "source": [
    "ufoSighting_df['country'] = ufoSighting_df['country'].fillna('')\n",
    "ufoSighting_df['state'] = ufoSighting_df['state'].fillna('')\n",
    "ufoSighting_df.head()"
   ]
  },
  {
   "cell_type": "code",
   "execution_count": 10,
   "metadata": {},
   "outputs": [
    {
     "data": {
      "text/plain": [
       "<pandas.core.groupby.generic.DataFrameGroupBy object at 0x0000018F658A7400>"
      ]
     },
     "execution_count": 10,
     "metadata": {},
     "output_type": "execute_result"
    }
   ],
   "source": [
    "sightings_groups = ufoSighting_df.groupby([\"city\",\"country\"])\n",
    "sightings_groups"
   ]
  },
  {
   "cell_type": "code",
   "execution_count": 11,
   "metadata": {},
   "outputs": [],
   "source": [
    "city_sightings_df = pd.DataFrame(columns= [\n",
    "                               \"city\",\n",
    "                               \"longitude\",\n",
    "                               \"latitude\",\n",
    "                               \"count\"])\n",
    "\n",
    "for name,group in sightings_groups:\n",
    "    if(len(group) > 20):\n",
    "        city_loc = pd.Series({\n",
    "                            \"city\": name[0],\n",
    "                            \"latitude\" :group['latitude'].unique()[0],\n",
    "                            \"longitude\":group['longitude '].unique()[0],\n",
    "                            \"count\": len(group)})\n",
    "        city_sightings_df = city_sightings_df.append(city_loc, ignore_index=True) "
   ]
  },
  {
   "cell_type": "code",
   "execution_count": 12,
   "metadata": {},
   "outputs": [
    {
     "data": {
      "text/plain": [
       "0      41.0813889\n",
       "1      41.7894444\n",
       "2      35.0844444\n",
       "3      38.8047222\n",
       "4      33.8352778\n",
       "          ...    \n",
       "259    40.1719444\n",
       "260     49.883333\n",
       "261    38.6786111\n",
       "262    46.6022222\n",
       "263    32.7252778\n",
       "Name: latitude, Length: 264, dtype: object"
      ]
     },
     "execution_count": 12,
     "metadata": {},
     "output_type": "execute_result"
    }
   ],
   "source": [
    "city_sightings_df['latitude']"
   ]
  },
  {
   "cell_type": "code",
   "execution_count": 13,
   "metadata": {},
   "outputs": [],
   "source": [
    "gmaps.configure(api_key=g_key)\n",
    "fig = gmaps.figure()"
   ]
  },
  {
   "cell_type": "code",
   "execution_count": 14,
   "metadata": {},
   "outputs": [],
   "source": [
    "city_sightings_df['latitude'] = city_sightings_df['latitude'].astype(float, errors = 'raise')\n",
    "city_sightings_df['longitude'] = city_sightings_df['longitude'].astype(float, errors = 'raise')\n",
    "locations = city_sightings_df[[\"latitude\", \"longitude\"]]\n"
   ]
  },
  {
   "cell_type": "code",
   "execution_count": 15,
   "metadata": {},
   "outputs": [],
   "source": [
    "info_box_template = \"\"\"\n",
    "<dl>\n",
    "<dt>City</dt><dd>{city}</dd>\n",
    "<dt># of Sightings</dt><dd>{count}</dd>\n",
    "</dl>\n",
    "\"\"\"\n",
    "\n",
    "city_info = [info_box_template.format(**row) for index, row in city_sightings_df.iterrows()]"
   ]
  },
  {
   "cell_type": "code",
   "execution_count": 16,
   "metadata": {
    "scrolled": true
   },
   "outputs": [
    {
     "data": {
      "application/vnd.jupyter.widget-view+json": {
       "model_id": "4c4fa1115d284ef59634c569843c7bba",
       "version_major": 2,
       "version_minor": 0
      },
      "text/plain": [
       "Figure(layout=FigureLayout(height='420px'))"
      ]
     },
     "metadata": {},
     "output_type": "display_data"
    }
   ],
   "source": [
    "markers = gmaps.marker_layer(locations,info_box_content=city_info)\n",
    "fig.add_layer(markers)\n",
    "fig"
   ]
  },
  {
   "cell_type": "code",
   "execution_count": null,
   "metadata": {},
   "outputs": [],
   "source": []
  },
  {
   "cell_type": "code",
   "execution_count": null,
   "metadata": {},
   "outputs": [],
   "source": []
  },
  {
   "cell_type": "code",
   "execution_count": null,
   "metadata": {},
   "outputs": [],
   "source": []
  },
  {
   "cell_type": "code",
   "execution_count": 17,
   "metadata": {},
   "outputs": [],
   "source": [
    "\n",
    "json_data = ufoSighting_df.to_json(orient = \"records\")"
   ]
  },
  {
   "cell_type": "code",
   "execution_count": 18,
   "metadata": {},
   "outputs": [],
   "source": [
    "json_split = json_data.split('},')\n",
    "string_json = []\n",
    "for entry in json_split:\n",
    "    string = entry + \"}\" \n",
    "    string = string.replace(\"\\\\\",\"\")\n",
    "    string = string.replace(\"[\",\"\")\n",
    "    string = string.replace(\"]\",\"\")\n",
    "    string = string.replace(\"}}\",\"}\")\n",
    "    string_json.append(string)"
   ]
  },
  {
   "cell_type": "code",
   "execution_count": 19,
   "metadata": {},
   "outputs": [
    {
     "name": "stdout",
     "output_type": "stream",
     "text": [
      "{\"datetime\":\"03/22/2000\",\"city\":\"tuscaloosa\",\"state\":\"al\",\"country\":\"us\",\"shape\":\"formation\",\"duration (seconds)\":\"10\",\"duration (hours/min)\":\"8-10 seconds\",\"comments\":\"3 almost transparent&#44 almost circular (amoeba shaped)&#44 phosphorous neon-green entities flying in a triangular formation.  all 3 witness\",\"latitude\":\"33.2097222\",\"longitude \":\"-87.5691667\"}\n"
     ]
    }
   ],
   "source": [
    "print(string_json[len(string_json) -1])"
   ]
  },
  {
   "cell_type": "code",
   "execution_count": null,
   "metadata": {},
   "outputs": [],
   "source": []
  },
  {
   "cell_type": "code",
   "execution_count": 20,
   "metadata": {},
   "outputs": [],
   "source": [
    "\n",
    "with open('listfile.js', 'w') as filehandle:\n",
    "    #add the bit in the f'ront\n",
    "    filehandle.write('var data2 = [')\n",
    "    for listitem in string_json:\n",
    "        filehandle.write('%s,\\n' % listitem)\n",
    "    filehandle.write(']')"
   ]
  },
  {
   "cell_type": "code",
   "execution_count": null,
   "metadata": {},
   "outputs": [],
   "source": []
  }
 ],
 "metadata": {
  "kernelspec": {
   "display_name": "AdvPythonEnv",
   "language": "python",
   "name": "advpythonenv"
  },
  "language_info": {
   "codemirror_mode": {
    "name": "ipython",
    "version": 3
   },
   "file_extension": ".py",
   "mimetype": "text/x-python",
   "name": "python",
   "nbconvert_exporter": "python",
   "pygments_lexer": "ipython3",
   "version": "3.6.10"
  }
 },
 "nbformat": 4,
 "nbformat_minor": 4
}
