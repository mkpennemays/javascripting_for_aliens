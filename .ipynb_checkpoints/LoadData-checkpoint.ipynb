{
 "cells": [
  {
   "cell_type": "code",
   "execution_count": 1,
   "metadata": {},
   "outputs": [],
   "source": [
    "import os\n",
    "import requests\n",
    "import json\n",
    "import pandas as pd\n",
    "import numpy as np\n",
    "from datetime import datetime, date"
   ]
  },
  {
   "cell_type": "code",
   "execution_count": 2,
   "metadata": {},
   "outputs": [],
   "source": [
    "data_file = \"Resources/Onyx-Data-UFO-Sightings-Dataset.csv\"\n"
   ]
  },
  {
   "cell_type": "code",
   "execution_count": 3,
   "metadata": {},
   "outputs": [
    {
     "name": "stderr",
     "output_type": "stream",
     "text": [
      "C:\\Users\\Mary Mays\\anaconda3\\envs\\AdvPandaEnv\\lib\\site-packages\\IPython\\core\\interactiveshell.py:2714: DtypeWarning: Columns (5) have mixed types.Specify dtype option on import or set low_memory=False.\n",
      "  interactivity=interactivity, compiler=compiler, result=result)\n"
     ]
    }
   ],
   "source": [
    "ufoSightingFull_df = pd.read_csv(data_file,dtype={\"datetime\": \"string\", \\\n",
    "                                              \"city\": \"string\",\\\n",
    "                                              \"state\": \"string\",\\\n",
    "                                              \"country\": \"string\",\\\n",
    "                                              \"shape\":\"string\",\\\n",
    "                                              \"duration\":\"string\",\\\n",
    "                                              \"duration (hours/min)\":\"string\",\\\n",
    "                                              \"comments\":\"string\",\\\n",
    "                                              \"date posted\":\"string\",\\\n",
    "                                              \"latitude\":\"string\",\\\n",
    "                                              \"longitude\":\"string\"})"
   ]
  },
  {
   "cell_type": "code",
   "execution_count": 4,
   "metadata": {
    "scrolled": false
   },
   "outputs": [
    {
     "data": {
      "text/html": [
       "<div>\n",
       "<style scoped>\n",
       "    .dataframe tbody tr th:only-of-type {\n",
       "        vertical-align: middle;\n",
       "    }\n",
       "\n",
       "    .dataframe tbody tr th {\n",
       "        vertical-align: top;\n",
       "    }\n",
       "\n",
       "    .dataframe thead th {\n",
       "        text-align: right;\n",
       "    }\n",
       "</style>\n",
       "<table border=\"1\" class=\"dataframe\">\n",
       "  <thead>\n",
       "    <tr style=\"text-align: right;\">\n",
       "      <th></th>\n",
       "      <th>datetime</th>\n",
       "      <th>city</th>\n",
       "      <th>state</th>\n",
       "      <th>country</th>\n",
       "      <th>shape</th>\n",
       "      <th>duration (seconds)</th>\n",
       "      <th>duration (hours/min)</th>\n",
       "      <th>comments</th>\n",
       "      <th>date posted</th>\n",
       "      <th>latitude</th>\n",
       "      <th>longitude</th>\n",
       "    </tr>\n",
       "  </thead>\n",
       "  <tbody>\n",
       "    <tr>\n",
       "      <th>0</th>\n",
       "      <td>10/10/1949 20:30</td>\n",
       "      <td>san marcos</td>\n",
       "      <td>tx</td>\n",
       "      <td>us</td>\n",
       "      <td>cylinder</td>\n",
       "      <td>2700</td>\n",
       "      <td>45 minutes</td>\n",
       "      <td>This event took place in early fall around 194...</td>\n",
       "      <td>4/27/2004</td>\n",
       "      <td>29.8830556</td>\n",
       "      <td>-97.941111</td>\n",
       "    </tr>\n",
       "    <tr>\n",
       "      <th>1</th>\n",
       "      <td>10/10/1949 21:00</td>\n",
       "      <td>lackland afb</td>\n",
       "      <td>tx</td>\n",
       "      <td>&lt;NA&gt;</td>\n",
       "      <td>light</td>\n",
       "      <td>7200</td>\n",
       "      <td>1-2 hrs</td>\n",
       "      <td>1949 Lackland AFB&amp;#44 TX.  Lights racing acros...</td>\n",
       "      <td>12/16/2005</td>\n",
       "      <td>29.38421</td>\n",
       "      <td>-98.581082</td>\n",
       "    </tr>\n",
       "    <tr>\n",
       "      <th>2</th>\n",
       "      <td>10/10/1955 17:00</td>\n",
       "      <td>chester (uk/england)</td>\n",
       "      <td>&lt;NA&gt;</td>\n",
       "      <td>gb</td>\n",
       "      <td>circle</td>\n",
       "      <td>20</td>\n",
       "      <td>20 seconds</td>\n",
       "      <td>Green/Orange circular disc over Chester&amp;#44 En...</td>\n",
       "      <td>1/21/2008</td>\n",
       "      <td>53.2</td>\n",
       "      <td>-2.916667</td>\n",
       "    </tr>\n",
       "    <tr>\n",
       "      <th>3</th>\n",
       "      <td>10/10/1956 21:00</td>\n",
       "      <td>edna</td>\n",
       "      <td>tx</td>\n",
       "      <td>us</td>\n",
       "      <td>circle</td>\n",
       "      <td>20</td>\n",
       "      <td>1/2 hour</td>\n",
       "      <td>My older brother and twin sister were leaving ...</td>\n",
       "      <td>1/17/2004</td>\n",
       "      <td>28.9783333</td>\n",
       "      <td>-96.645833</td>\n",
       "    </tr>\n",
       "    <tr>\n",
       "      <th>4</th>\n",
       "      <td>10/10/1960 20:00</td>\n",
       "      <td>kaneohe</td>\n",
       "      <td>hi</td>\n",
       "      <td>us</td>\n",
       "      <td>light</td>\n",
       "      <td>900</td>\n",
       "      <td>15 minutes</td>\n",
       "      <td>AS a Marine 1st Lt. flying an FJ4B fighter/att...</td>\n",
       "      <td>1/22/2004</td>\n",
       "      <td>21.4180556</td>\n",
       "      <td>-157.803611</td>\n",
       "    </tr>\n",
       "  </tbody>\n",
       "</table>\n",
       "</div>"
      ],
      "text/plain": [
       "           datetime                  city state country     shape  \\\n",
       "0  10/10/1949 20:30            san marcos    tx      us  cylinder   \n",
       "1  10/10/1949 21:00          lackland afb    tx    <NA>     light   \n",
       "2  10/10/1955 17:00  chester (uk/england)  <NA>      gb    circle   \n",
       "3  10/10/1956 21:00                  edna    tx      us    circle   \n",
       "4  10/10/1960 20:00               kaneohe    hi      us     light   \n",
       "\n",
       "  duration (seconds) duration (hours/min)  \\\n",
       "0               2700           45 minutes   \n",
       "1               7200              1-2 hrs   \n",
       "2                 20           20 seconds   \n",
       "3                 20             1/2 hour   \n",
       "4                900           15 minutes   \n",
       "\n",
       "                                            comments date posted    latitude  \\\n",
       "0  This event took place in early fall around 194...   4/27/2004  29.8830556   \n",
       "1  1949 Lackland AFB&#44 TX.  Lights racing acros...  12/16/2005    29.38421   \n",
       "2  Green/Orange circular disc over Chester&#44 En...   1/21/2008        53.2   \n",
       "3  My older brother and twin sister were leaving ...   1/17/2004  28.9783333   \n",
       "4  AS a Marine 1st Lt. flying an FJ4B fighter/att...   1/22/2004  21.4180556   \n",
       "\n",
       "   longitude   \n",
       "0  -97.941111  \n",
       "1  -98.581082  \n",
       "2   -2.916667  \n",
       "3  -96.645833  \n",
       "4 -157.803611  "
      ]
     },
     "execution_count": 4,
     "metadata": {},
     "output_type": "execute_result"
    }
   ],
   "source": [
    "ufoSightingFull_df.head()"
   ]
  },
  {
   "cell_type": "code",
   "execution_count": 5,
   "metadata": {},
   "outputs": [],
   "source": [
    "#Lets pare this down - its a big dataset to handle clientside"
   ]
  },
  {
   "cell_type": "code",
   "execution_count": null,
   "metadata": {},
   "outputs": [],
   "source": []
  },
  {
   "cell_type": "code",
   "execution_count": 6,
   "metadata": {
    "scrolled": true
   },
   "outputs": [],
   "source": [
    "\n",
    "ufoSightingFull_df.drop('date posted', axis=1,inplace = True)\n",
    "ufoSighting_df = ufoSightingFull_df.sample(frac=0.50)\n"
   ]
  },
  {
   "cell_type": "code",
   "execution_count": 7,
   "metadata": {},
   "outputs": [
    {
     "data": {
      "text/plain": [
       "datetime                40166\n",
       "city                    40166\n",
       "state                   37375\n",
       "country                 35367\n",
       "shape                   39191\n",
       "duration (seconds)      40166\n",
       "duration (hours/min)    40166\n",
       "comments                40160\n",
       "latitude                40166\n",
       "longitude               40166\n",
       "dtype: int64"
      ]
     },
     "execution_count": 7,
     "metadata": {},
     "output_type": "execute_result"
    }
   ],
   "source": [
    "ufoSighting_df.count()"
   ]
  },
  {
   "cell_type": "code",
   "execution_count": 8,
   "metadata": {},
   "outputs": [],
   "source": [
    "def convert_date(dt_tm):\n",
    "    dt2 = datetime.strptime(dt_tm,\"%m/%d/%Y %M:%S\")\n",
    "    return dt2.strftime(\"%m/%d/%Y\")\n",
    "\n",
    "ufoSighting_df['datetime'] = ufoSighting_df['datetime'].apply(convert_date)"
   ]
  },
  {
   "cell_type": "code",
   "execution_count": 15,
   "metadata": {},
   "outputs": [
    {
     "data": {
      "text/html": [
       "<div>\n",
       "<style scoped>\n",
       "    .dataframe tbody tr th:only-of-type {\n",
       "        vertical-align: middle;\n",
       "    }\n",
       "\n",
       "    .dataframe tbody tr th {\n",
       "        vertical-align: top;\n",
       "    }\n",
       "\n",
       "    .dataframe thead th {\n",
       "        text-align: right;\n",
       "    }\n",
       "</style>\n",
       "<table border=\"1\" class=\"dataframe\">\n",
       "  <thead>\n",
       "    <tr style=\"text-align: right;\">\n",
       "      <th></th>\n",
       "      <th>datetime</th>\n",
       "      <th>city</th>\n",
       "      <th>state</th>\n",
       "      <th>country</th>\n",
       "      <th>shape</th>\n",
       "      <th>duration (seconds)</th>\n",
       "      <th>duration (hours/min)</th>\n",
       "      <th>comments</th>\n",
       "      <th>latitude</th>\n",
       "      <th>longitude</th>\n",
       "    </tr>\n",
       "  </thead>\n",
       "  <tbody>\n",
       "    <tr>\n",
       "      <th>59706</th>\n",
       "      <td>07/25/2008</td>\n",
       "      <td>maricopa</td>\n",
       "      <td>az</td>\n",
       "      <td>us</td>\n",
       "      <td>diamond</td>\n",
       "      <td>60</td>\n",
       "      <td>1 minute</td>\n",
       "      <td>Extremely low flying Diamond shaped UFO travel...</td>\n",
       "      <td>33.0580556</td>\n",
       "      <td>-112.046944</td>\n",
       "    </tr>\n",
       "    <tr>\n",
       "      <th>68641</th>\n",
       "      <td>08/02/2008</td>\n",
       "      <td>wapakoneta</td>\n",
       "      <td>oh</td>\n",
       "      <td>us</td>\n",
       "      <td>sphere</td>\n",
       "      <td>90</td>\n",
       "      <td>1.5 minutes</td>\n",
       "      <td>sphere with orange flame moving across sky.</td>\n",
       "      <td>40.5677778</td>\n",
       "      <td>-84.193611</td>\n",
       "    </tr>\n",
       "    <tr>\n",
       "      <th>64524</th>\n",
       "      <td>08/11/2003</td>\n",
       "      <td>salem/peabody</td>\n",
       "      <td>ma</td>\n",
       "      <td></td>\n",
       "      <td>other</td>\n",
       "      <td>600</td>\n",
       "      <td>10 minutes</td>\n",
       "      <td>Long black cylindrical object ;with large bowl...</td>\n",
       "      <td>42.535793</td>\n",
       "      <td>-70.966568</td>\n",
       "    </tr>\n",
       "    <tr>\n",
       "      <th>66848</th>\n",
       "      <td>08/15/2013</td>\n",
       "      <td>warm springs</td>\n",
       "      <td>ga</td>\n",
       "      <td>us</td>\n",
       "      <td>cylinder</td>\n",
       "      <td>2700</td>\n",
       "      <td>30-45 minutes</td>\n",
       "      <td>Orb dancing across the sky while ufo was near&amp;#33</td>\n",
       "      <td>32.8902778</td>\n",
       "      <td>-84.681111</td>\n",
       "    </tr>\n",
       "    <tr>\n",
       "      <th>32094</th>\n",
       "      <td>03/17/2010</td>\n",
       "      <td>avon</td>\n",
       "      <td>ma</td>\n",
       "      <td>us</td>\n",
       "      <td>light</td>\n",
       "      <td>30</td>\n",
       "      <td>30 seconds</td>\n",
       "      <td>bright drifting light fading away into sky</td>\n",
       "      <td>42.1305556</td>\n",
       "      <td>-71.041667</td>\n",
       "    </tr>\n",
       "  </tbody>\n",
       "</table>\n",
       "</div>"
      ],
      "text/plain": [
       "         datetime           city state country     shape duration (seconds)  \\\n",
       "59706  07/25/2008       maricopa    az      us   diamond                 60   \n",
       "68641  08/02/2008     wapakoneta    oh      us    sphere                 90   \n",
       "64524  08/11/2003  salem/peabody    ma             other                600   \n",
       "66848  08/15/2013   warm springs    ga      us  cylinder               2700   \n",
       "32094  03/17/2010           avon    ma      us     light                 30   \n",
       "\n",
       "      duration (hours/min)                                           comments  \\\n",
       "59706             1 minute  Extremely low flying Diamond shaped UFO travel...   \n",
       "68641          1.5 minutes        sphere with orange flame moving across sky.   \n",
       "64524           10 minutes  Long black cylindrical object ;with large bowl...   \n",
       "66848        30-45 minutes  Orb dancing across the sky while ufo was near&#33   \n",
       "32094           30 seconds         bright drifting light fading away into sky   \n",
       "\n",
       "         latitude  longitude   \n",
       "59706  33.0580556 -112.046944  \n",
       "68641  40.5677778  -84.193611  \n",
       "64524   42.535793  -70.966568  \n",
       "66848  32.8902778  -84.681111  \n",
       "32094  42.1305556  -71.041667  "
      ]
     },
     "execution_count": 15,
     "metadata": {},
     "output_type": "execute_result"
    }
   ],
   "source": [
    "ufoSighting_df['country'] = ufoSighting_df['country'].fillna('')\n",
    "ufoSighting_df['state'] = ufoSighting_df['state'].fillna('')\n",
    "ufoSighting_df.head()"
   ]
  },
  {
   "cell_type": "code",
   "execution_count": 16,
   "metadata": {},
   "outputs": [],
   "source": [
    "\n",
    "json_data = ufoSighting_df.to_json(orient = \"records\")"
   ]
  },
  {
   "cell_type": "code",
   "execution_count": 17,
   "metadata": {},
   "outputs": [],
   "source": [
    "json_split = json_data.split('},')\n",
    "string_json = []\n",
    "for entry in json_split:\n",
    "    string = entry + \"}\" \n",
    "    string = string.replace(\"\\\\\",\"\")\n",
    "    string = string.replace(\"[\",\"\")\n",
    "    string = string.replace(\"]\",\"\")\n",
    "    string = string.replace(\"}}\",\"}\")\n",
    "    string_json.append(string)"
   ]
  },
  {
   "cell_type": "code",
   "execution_count": 18,
   "metadata": {},
   "outputs": [
    {
     "name": "stdout",
     "output_type": "stream",
     "text": [
      "{\"datetime\":\"09/20/2009\",\"city\":\"porterville\",\"state\":\"ca\",\"country\":\"us\",\"shape\":\"sphere\",\"duration (seconds)\":1800.0,\"duration (hours/min)\":\"30 plus min and still out\",\"comments\":\"round ball hovering change colors from blue&#44 red and orange\",\"latitude\":\"36.0652778\",\"longitude \":-119.0158333}\n"
     ]
    }
   ],
   "source": [
    "print(string_json[len(string_json) -1])"
   ]
  },
  {
   "cell_type": "code",
   "execution_count": null,
   "metadata": {},
   "outputs": [],
   "source": []
  },
  {
   "cell_type": "code",
   "execution_count": 19,
   "metadata": {},
   "outputs": [],
   "source": [
    "\n",
    "with open('listfile.js', 'w') as filehandle:\n",
    "    #add the bit in the f'ront\n",
    "    filehandle.write('var data2 = [')\n",
    "    for listitem in string_json:\n",
    "        filehandle.write('%s,\\n' % listitem)\n",
    "    filehandle.write(']')"
   ]
  },
  {
   "cell_type": "code",
   "execution_count": null,
   "metadata": {},
   "outputs": [],
   "source": []
  }
 ],
 "metadata": {
  "kernelspec": {
   "display_name": "AdvPythonEnv",
   "language": "python",
   "name": "advpythonenv"
  },
  "language_info": {
   "codemirror_mode": {
    "name": "ipython",
    "version": 3
   },
   "file_extension": ".py",
   "mimetype": "text/x-python",
   "name": "python",
   "nbconvert_exporter": "python",
   "pygments_lexer": "ipython3",
   "version": "3.6.10"
  }
 },
 "nbformat": 4,
 "nbformat_minor": 4
}
